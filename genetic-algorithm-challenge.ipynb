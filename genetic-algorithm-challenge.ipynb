<<<<<<< HEAD
{"metadata":{"kernelspec":{"language":"python","display_name":"Python 3","name":"python3"},"language_info":{"name":"python","version":"3.10.12","mimetype":"text/x-python","codemirror_mode":{"name":"ipython","version":3},"pygments_lexer":"ipython3","nbconvert_exporter":"python","file_extension":".py"},"kaggle":{"accelerator":"none","dataSources":[{"sourceId":783711,"sourceType":"datasetVersion","datasetId":409155}],"dockerImageVersionId":30626,"isInternetEnabled":true,"language":"python","sourceType":"notebook","isGpuEnabled":false}},"nbformat_minor":4,"nbformat":4,"cells":[{"cell_type":"code","source":"# This Python 3 environment comes with many helpful analytics libraries installed\n# It is defined by the kaggle/python Docker image: https://github.com/kaggle/docker-python\n# For example, here's several helpful packages to load\n\nimport numpy as np # linear algebra\nimport pandas as pd # data processing, CSV file I/O (e.g. pd.read_csv)\n\n# Input data files are available in the read-only \"../input/\" directory\n# For example, running this (by clicking run or pressing Shift+Enter) will list all files under the input directory\n\nimport os\nfor dirname, _, filenames in os.walk('/kaggle/input'):\n    for filename in filenames:\n        print(os.path.join(dirname, filename))\n        \n        \n\n# You can write up to 20GB to the current directory (/kaggle/working/) that gets preserved as output when you create a version using \"Save & Run All\" \n# You can also write temporary files to /kaggle/temp/, but they won't be saved outside of the current session","metadata":{"_uuid":"8f2839f25d086af736a60e9eeb907d3b93b6e0e5","_cell_guid":"b1076dfc-b9ad-4769-8c92-a6c4dae69d19","execution":{"iopub.status.busy":"2024-01-05T13:25:12.754770Z","iopub.execute_input":"2024-01-05T13:25:12.755929Z","iopub.status.idle":"2024-01-05T13:25:13.220169Z","shell.execute_reply.started":"2024-01-05T13:25:12.755886Z","shell.execute_reply":"2024-01-05T13:25:13.218966Z"},"trusted":true},"execution_count":null,"outputs":[]},{"cell_type":"code","source":"from tpot import TPOTClassifier\nfrom sklearn.model_selection import train_test_split\nimport pandas as pd \nimport numpy as np\n \n\n","metadata":{"execution":{"iopub.status.busy":"2024-01-05T13:54:19.035466Z","iopub.execute_input":"2024-01-05T13:54:19.035883Z","iopub.status.idle":"2024-01-05T13:54:19.043603Z","shell.execute_reply.started":"2024-01-05T13:54:19.035851Z","shell.execute_reply":"2024-01-05T13:54:19.041957Z"},"trusted":true},"execution_count":null,"outputs":[]},{"cell_type":"code","source":"# load the data\ntelescope = pd.read_csv('/kaggle/input/magic-gamma-telescope-dataset/telescope_data.csv')\ntelescope.head()\n","metadata":{"execution":{"iopub.status.busy":"2024-01-05T13:42:51.944644Z","iopub.execute_input":"2024-01-05T13:42:51.945351Z","iopub.status.idle":"2024-01-05T13:42:52.024248Z","shell.execute_reply.started":"2024-01-05T13:42:51.945303Z","shell.execute_reply":"2024-01-05T13:42:52.023337Z"},"trusted":true},"execution_count":null,"outputs":[]},{"cell_type":"code","source":"telescope.info()","metadata":{"execution":{"iopub.status.busy":"2024-01-05T13:43:18.081190Z","iopub.execute_input":"2024-01-05T13:43:18.081722Z","iopub.status.idle":"2024-01-05T13:43:18.122469Z","shell.execute_reply.started":"2024-01-05T13:43:18.081672Z","shell.execute_reply":"2024-01-05T13:43:18.121253Z"},"trusted":true},"execution_count":null,"outputs":[]},{"cell_type":"code","source":"#clean the data\ntelescope_shuffle = telescope.iloc[np.random.permutation(len(telescope))]\ntele=telescope_shuffle.reset_index(drop=True)","metadata":{"execution":{"iopub.status.busy":"2024-01-05T13:36:37.920777Z","iopub.execute_input":"2024-01-05T13:36:37.921209Z","iopub.status.idle":"2024-01-05T13:36:37.934544Z","shell.execute_reply.started":"2024-01-05T13:36:37.921175Z","shell.execute_reply":"2024-01-05T13:36:37.933467Z"},"trusted":true},"execution_count":null,"outputs":[]},{"cell_type":"code","source":"#Store 2 classes\ntele['class']=tele['class'].map({'g':0,'h':1})\ntele_class = tele['class'].values","metadata":{"execution":{"iopub.status.busy":"2024-01-05T13:43:53.980934Z","iopub.execute_input":"2024-01-05T13:43:53.981350Z","iopub.status.idle":"2024-01-05T13:43:53.992666Z","shell.execute_reply.started":"2024-01-05T13:43:53.981317Z","shell.execute_reply":"2024-01-05T13:43:53.991210Z"},"trusted":true},"execution_count":null,"outputs":[]},{"cell_type":"code","source":"#split training, testing, and validation data\ntraining_indices, validation_indices = training_indices, testing_indices = train_test_split(tele.index, stratify =tele_class, train_size =0.75,test_size = 0.25)","metadata":{"execution":{"iopub.status.busy":"2024-01-05T13:47:25.083245Z","iopub.execute_input":"2024-01-05T13:47:25.083778Z","iopub.status.idle":"2024-01-05T13:47:25.100899Z","shell.execute_reply.started":"2024-01-05T13:47:25.083741Z","shell.execute_reply":"2024-01-05T13:47:25.099852Z"},"trusted":true},"execution_count":null,"outputs":[]},{"cell_type":"code","source":"#Let Genetic Programming find best ML model and hyperparameters\ntpot = TPOTClassifier(generations=5, verbosity=2)\ntpot.fit(tele.drop('class', axis=1).loc[training_indices].values,\n\ttele.loc[training_indices, 'class'].values)","metadata":{"execution":{"iopub.status.busy":"2024-01-05T14:31:55.130308Z","iopub.execute_input":"2024-01-05T14:31:55.130828Z","iopub.status.idle":"2024-01-05T15:40:22.268357Z","shell.execute_reply.started":"2024-01-05T14:31:55.130785Z","shell.execute_reply":"2024-01-05T15:40:22.266981Z"},"trusted":true},"execution_count":null,"outputs":[]},{"cell_type":"code","source":"#Export the generated code\ntpot.export('genetic_algorithm_pipeline.py')","metadata":{"execution":{"iopub.status.busy":"2024-01-05T15:50:02.185074Z","iopub.execute_input":"2024-01-05T15:50:02.185531Z","iopub.status.idle":"2024-01-05T15:50:02.190905Z","shell.execute_reply.started":"2024-01-05T15:50:02.185494Z","shell.execute_reply":"2024-01-05T15:50:02.189703Z"},"trusted":true},"execution_count":null,"outputs":[]},{"cell_type":"code","source":"","metadata":{},"execution_count":null,"outputs":[]}]}
=======
{
 "cells": [
  {
   "cell_type": "code",
   "execution_count": 1,
   "id": "6e754ff5",
   "metadata": {
    "_cell_guid": "b1076dfc-b9ad-4769-8c92-a6c4dae69d19",
    "_uuid": "8f2839f25d086af736a60e9eeb907d3b93b6e0e5",
    "execution": {
     "iopub.execute_input": "2024-01-05T13:44:20.386577Z",
     "iopub.status.busy": "2024-01-05T13:44:20.386060Z",
     "iopub.status.idle": "2024-01-05T13:44:20.871721Z",
     "shell.execute_reply": "2024-01-05T13:44:20.870580Z"
    },
    "papermill": {
     "duration": 0.495723,
     "end_time": "2024-01-05T13:44:20.874955",
     "exception": false,
     "start_time": "2024-01-05T13:44:20.379232",
     "status": "completed"
    },
    "tags": []
   },
   "outputs": [
    {
     "name": "stdout",
     "output_type": "stream",
     "text": [
      "/kaggle/input/magic-gamma-telescope-dataset/telescope_data.csv\n"
     ]
    }
   ],
   "source": [
    "# This Python 3 environment comes with many helpful analytics libraries installed\n",
    "# It is defined by the kaggle/python Docker image: https://github.com/kaggle/docker-python\n",
    "# For example, here's several helpful packages to load\n",
    "\n",
    "import numpy as np # linear algebra\n",
    "import pandas as pd # data processing, CSV file I/O (e.g. pd.read_csv)\n",
    "\n",
    "# Input data files are available in the read-only \"../input/\" directory\n",
    "# For example, running this (by clicking run or pressing Shift+Enter) will list all files under the input directory\n",
    "\n",
    "import os\n",
    "for dirname, _, filenames in os.walk('/kaggle/input'):\n",
    "    for filename in filenames:\n",
    "        print(os.path.join(dirname, filename))\n",
    "        \n",
    "        \n",
    "\n",
    "# You can write up to 20GB to the current directory (/kaggle/working/) that gets preserved as output when you create a version using \"Save & Run All\" \n",
    "# You can also write temporary files to /kaggle/temp/, but they won't be saved outside of the current session"
   ]
  },
  {
   "cell_type": "code",
   "execution_count": 2,
   "id": "4ec45b2d",
   "metadata": {
    "execution": {
     "iopub.execute_input": "2024-01-05T13:44:20.886214Z",
     "iopub.status.busy": "2024-01-05T13:44:20.885610Z",
     "iopub.status.idle": "2024-01-05T13:44:26.778285Z",
     "shell.execute_reply": "2024-01-05T13:44:26.776944Z"
    },
    "papermill": {
     "duration": 5.90118,
     "end_time": "2024-01-05T13:44:26.781204",
     "exception": false,
     "start_time": "2024-01-05T13:44:20.880024",
     "status": "completed"
    },
    "tags": []
   },
   "outputs": [],
   "source": [
    "from tpot import TPOTClassifier\n",
    "from sklearn.model_selection import train_test_split\n",
    "import pandas as pd \n",
    "import numpy as np\n"
   ]
  },
  {
   "cell_type": "code",
   "execution_count": 3,
   "id": "1fd33d7b",
   "metadata": {
    "execution": {
     "iopub.execute_input": "2024-01-05T13:44:26.791460Z",
     "iopub.status.busy": "2024-01-05T13:44:26.790735Z",
     "iopub.status.idle": "2024-01-05T13:44:26.907930Z",
     "shell.execute_reply": "2024-01-05T13:44:26.906765Z"
    },
    "papermill": {
     "duration": 0.125341,
     "end_time": "2024-01-05T13:44:26.910809",
     "exception": false,
     "start_time": "2024-01-05T13:44:26.785468",
     "status": "completed"
    },
    "tags": []
   },
   "outputs": [
    {
     "data": {
      "text/html": [
       "<div>\n",
       "<style scoped>\n",
       "    .dataframe tbody tr th:only-of-type {\n",
       "        vertical-align: middle;\n",
       "    }\n",
       "\n",
       "    .dataframe tbody tr th {\n",
       "        vertical-align: top;\n",
       "    }\n",
       "\n",
       "    .dataframe thead th {\n",
       "        text-align: right;\n",
       "    }\n",
       "</style>\n",
       "<table border=\"1\" class=\"dataframe\">\n",
       "  <thead>\n",
       "    <tr style=\"text-align: right;\">\n",
       "      <th></th>\n",
       "      <th>Unnamed: 0</th>\n",
       "      <th>fLength</th>\n",
       "      <th>fWidth</th>\n",
       "      <th>fSize</th>\n",
       "      <th>fConc</th>\n",
       "      <th>fConc1</th>\n",
       "      <th>fAsym</th>\n",
       "      <th>fM3Long</th>\n",
       "      <th>fM3Trans</th>\n",
       "      <th>fAlpha</th>\n",
       "      <th>fDist</th>\n",
       "      <th>class</th>\n",
       "    </tr>\n",
       "  </thead>\n",
       "  <tbody>\n",
       "    <tr>\n",
       "      <th>0</th>\n",
       "      <td>0</td>\n",
       "      <td>28.7967</td>\n",
       "      <td>16.0021</td>\n",
       "      <td>2.6449</td>\n",
       "      <td>0.3918</td>\n",
       "      <td>0.1982</td>\n",
       "      <td>27.7004</td>\n",
       "      <td>22.0110</td>\n",
       "      <td>-8.2027</td>\n",
       "      <td>40.0920</td>\n",
       "      <td>81.8828</td>\n",
       "      <td>g</td>\n",
       "    </tr>\n",
       "    <tr>\n",
       "      <th>1</th>\n",
       "      <td>1</td>\n",
       "      <td>31.6036</td>\n",
       "      <td>11.7235</td>\n",
       "      <td>2.5185</td>\n",
       "      <td>0.5303</td>\n",
       "      <td>0.3773</td>\n",
       "      <td>26.2722</td>\n",
       "      <td>23.8238</td>\n",
       "      <td>-9.9574</td>\n",
       "      <td>6.3609</td>\n",
       "      <td>205.2610</td>\n",
       "      <td>g</td>\n",
       "    </tr>\n",
       "    <tr>\n",
       "      <th>2</th>\n",
       "      <td>2</td>\n",
       "      <td>162.0520</td>\n",
       "      <td>136.0310</td>\n",
       "      <td>4.0612</td>\n",
       "      <td>0.0374</td>\n",
       "      <td>0.0187</td>\n",
       "      <td>116.7410</td>\n",
       "      <td>-64.8580</td>\n",
       "      <td>-45.2160</td>\n",
       "      <td>76.9600</td>\n",
       "      <td>256.7880</td>\n",
       "      <td>g</td>\n",
       "    </tr>\n",
       "    <tr>\n",
       "      <th>3</th>\n",
       "      <td>3</td>\n",
       "      <td>23.8172</td>\n",
       "      <td>9.5728</td>\n",
       "      <td>2.3385</td>\n",
       "      <td>0.6147</td>\n",
       "      <td>0.3922</td>\n",
       "      <td>27.2107</td>\n",
       "      <td>-6.4633</td>\n",
       "      <td>-7.1513</td>\n",
       "      <td>10.4490</td>\n",
       "      <td>116.7370</td>\n",
       "      <td>g</td>\n",
       "    </tr>\n",
       "    <tr>\n",
       "      <th>4</th>\n",
       "      <td>4</td>\n",
       "      <td>75.1362</td>\n",
       "      <td>30.9205</td>\n",
       "      <td>3.1611</td>\n",
       "      <td>0.3168</td>\n",
       "      <td>0.1832</td>\n",
       "      <td>-5.5277</td>\n",
       "      <td>28.5525</td>\n",
       "      <td>21.8393</td>\n",
       "      <td>4.6480</td>\n",
       "      <td>356.4620</td>\n",
       "      <td>g</td>\n",
       "    </tr>\n",
       "  </tbody>\n",
       "</table>\n",
       "</div>"
      ],
      "text/plain": [
       "   Unnamed: 0   fLength    fWidth   fSize   fConc  fConc1     fAsym  fM3Long  \\\n",
       "0           0   28.7967   16.0021  2.6449  0.3918  0.1982   27.7004  22.0110   \n",
       "1           1   31.6036   11.7235  2.5185  0.5303  0.3773   26.2722  23.8238   \n",
       "2           2  162.0520  136.0310  4.0612  0.0374  0.0187  116.7410 -64.8580   \n",
       "3           3   23.8172    9.5728  2.3385  0.6147  0.3922   27.2107  -6.4633   \n",
       "4           4   75.1362   30.9205  3.1611  0.3168  0.1832   -5.5277  28.5525   \n",
       "\n",
       "   fM3Trans   fAlpha     fDist class  \n",
       "0   -8.2027  40.0920   81.8828     g  \n",
       "1   -9.9574   6.3609  205.2610     g  \n",
       "2  -45.2160  76.9600  256.7880     g  \n",
       "3   -7.1513  10.4490  116.7370     g  \n",
       "4   21.8393   4.6480  356.4620     g  "
      ]
     },
     "execution_count": 3,
     "metadata": {},
     "output_type": "execute_result"
    }
   ],
   "source": [
    "# load the data\n",
    "telescope = pd.read_csv('/kaggle/input/magic-gamma-telescope-dataset/telescope_data.csv')\n",
    "telescope.head()\n"
   ]
  },
  {
   "cell_type": "code",
   "execution_count": 4,
   "id": "0707d47f",
   "metadata": {
    "execution": {
     "iopub.execute_input": "2024-01-05T13:44:26.921610Z",
     "iopub.status.busy": "2024-01-05T13:44:26.921187Z",
     "iopub.status.idle": "2024-01-05T13:44:26.953911Z",
     "shell.execute_reply": "2024-01-05T13:44:26.953026Z"
    },
    "papermill": {
     "duration": 0.041049,
     "end_time": "2024-01-05T13:44:26.956515",
     "exception": false,
     "start_time": "2024-01-05T13:44:26.915466",
     "status": "completed"
    },
    "tags": []
   },
   "outputs": [
    {
     "name": "stdout",
     "output_type": "stream",
     "text": [
      "<class 'pandas.core.frame.DataFrame'>\n",
      "RangeIndex: 19020 entries, 0 to 19019\n",
      "Data columns (total 12 columns):\n",
      " #   Column      Non-Null Count  Dtype  \n",
      "---  ------      --------------  -----  \n",
      " 0   Unnamed: 0  19020 non-null  int64  \n",
      " 1   fLength     19020 non-null  float64\n",
      " 2   fWidth      19020 non-null  float64\n",
      " 3   fSize       19020 non-null  float64\n",
      " 4   fConc       19020 non-null  float64\n",
      " 5   fConc1      19020 non-null  float64\n",
      " 6   fAsym       19020 non-null  float64\n",
      " 7   fM3Long     19020 non-null  float64\n",
      " 8   fM3Trans    19020 non-null  float64\n",
      " 9   fAlpha      19020 non-null  float64\n",
      " 10  fDist       19020 non-null  float64\n",
      " 11  class       19020 non-null  object \n",
      "dtypes: float64(10), int64(1), object(1)\n",
      "memory usage: 1.7+ MB\n"
     ]
    }
   ],
   "source": [
    "telescope.info()"
   ]
  },
  {
   "cell_type": "code",
   "execution_count": 5,
   "id": "950aac56",
   "metadata": {
    "execution": {
     "iopub.execute_input": "2024-01-05T13:44:26.967769Z",
     "iopub.status.busy": "2024-01-05T13:44:26.967169Z",
     "iopub.status.idle": "2024-01-05T13:44:26.978793Z",
     "shell.execute_reply": "2024-01-05T13:44:26.978004Z"
    },
    "papermill": {
     "duration": 0.020104,
     "end_time": "2024-01-05T13:44:26.981355",
     "exception": false,
     "start_time": "2024-01-05T13:44:26.961251",
     "status": "completed"
    },
    "tags": []
   },
   "outputs": [],
   "source": [
    "#clean the data\n",
    "telescope_shuffle = telescope.iloc[np.random.permutation(len(telescope))]\n",
    "tele=telescope_shuffle.reset_index(drop=True)"
   ]
  },
  {
   "cell_type": "code",
   "execution_count": 6,
   "id": "2f7ff296",
   "metadata": {
    "execution": {
     "iopub.execute_input": "2024-01-05T13:44:26.992590Z",
     "iopub.status.busy": "2024-01-05T13:44:26.992004Z",
     "iopub.status.idle": "2024-01-05T13:44:27.001263Z",
     "shell.execute_reply": "2024-01-05T13:44:27.000162Z"
    },
    "papermill": {
     "duration": 0.018121,
     "end_time": "2024-01-05T13:44:27.004162",
     "exception": false,
     "start_time": "2024-01-05T13:44:26.986041",
     "status": "completed"
    },
    "tags": []
   },
   "outputs": [],
   "source": [
    "#Store 2 classes\n",
    "tele['class']=tele['class'].map({'g':0,'h':1})\n",
    "tele_class = tele['class'].values"
   ]
  },
  {
   "cell_type": "code",
   "execution_count": null,
   "id": "622d93fb",
   "metadata": {
    "execution": {
     "iopub.execute_input": "2024-01-05T13:40:50.967046Z",
     "iopub.status.busy": "2024-01-05T13:40:50.966577Z",
     "iopub.status.idle": "2024-01-05T13:40:50.974631Z",
     "shell.execute_reply": "2024-01-05T13:40:50.973237Z",
     "shell.execute_reply.started": "2024-01-05T13:40:50.967013Z"
    },
    "papermill": {
     "duration": 0.004107,
     "end_time": "2024-01-05T13:44:27.012885",
     "exception": false,
     "start_time": "2024-01-05T13:44:27.008778",
     "status": "completed"
    },
    "tags": []
   },
   "outputs": [],
   "source": []
  },
  {
   "cell_type": "code",
   "execution_count": null,
   "id": "12d60bec",
   "metadata": {
    "papermill": {
     "duration": 0.004117,
     "end_time": "2024-01-05T13:44:27.021218",
     "exception": false,
     "start_time": "2024-01-05T13:44:27.017101",
     "status": "completed"
    },
    "tags": []
   },
   "outputs": [],
   "source": []
  },
  {
   "cell_type": "code",
   "execution_count": null,
   "id": "d6b0f136",
   "metadata": {
    "papermill": {
     "duration": 0.004003,
     "end_time": "2024-01-05T13:44:27.029472",
     "exception": false,
     "start_time": "2024-01-05T13:44:27.025469",
     "status": "completed"
    },
    "tags": []
   },
   "outputs": [],
   "source": []
  }
 ],
 "metadata": {
  "kaggle": {
   "accelerator": "none",
   "dataSources": [
    {
     "datasetId": 409155,
     "sourceId": 783711,
     "sourceType": "datasetVersion"
    }
   ],
   "dockerImageVersionId": 30626,
   "isGpuEnabled": false,
   "isInternetEnabled": true,
   "language": "python",
   "sourceType": "notebook"
  },
  "kernelspec": {
   "display_name": "Python 3",
   "language": "python",
   "name": "python3"
  },
  "language_info": {
   "codemirror_mode": {
    "name": "ipython",
    "version": 3
   },
   "file_extension": ".py",
   "mimetype": "text/x-python",
   "name": "python",
   "nbconvert_exporter": "python",
   "pygments_lexer": "ipython3",
   "version": "3.10.12"
  },
  "papermill": {
   "default_parameters": {},
   "duration": 12.529362,
   "end_time": "2024-01-05T13:44:29.292777",
   "environment_variables": {},
   "exception": null,
   "input_path": "__notebook__.ipynb",
   "output_path": "__notebook__.ipynb",
   "parameters": {},
   "start_time": "2024-01-05T13:44:16.763415",
   "version": "2.4.0"
  }
 },
 "nbformat": 4,
 "nbformat_minor": 5
}
>>>>>>> 3b4b05f370b12aaadada215a56df2f36ff273aae
