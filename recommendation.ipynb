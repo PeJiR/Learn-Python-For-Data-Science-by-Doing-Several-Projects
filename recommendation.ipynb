import numpy as np
from lightfm.datasets import fetch_movilens
from lightfm import LightFM

#fetch date and format it
data = fetch_movilens(min_rating = 4.0)

#printtraining and testing data
print(repr(data['train']))
print(repr(data['test']))